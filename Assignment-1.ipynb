{
 "cells": [
  {
   "cell_type": "markdown",
   "metadata": {},
   "source": [
    "## Assigment 1"
   ]
  },
  {
   "cell_type": "markdown",
   "metadata": {},
   "source": [
    "**1.** $\\theta = 2$"
   ]
  },
  {
   "cell_type": "markdown",
   "metadata": {},
   "source": [
    "**2.** $\\theta = 1$"
   ]
  },
  {
   "cell_type": "code",
   "execution_count": 32,
   "metadata": {
    "collapsed": true
   },
   "outputs": [],
   "source": [
    "import numpy as np"
   ]
  },
  {
   "cell_type": "code",
   "execution_count": 33,
   "metadata": {},
   "outputs": [
    {
     "data": {
      "text/plain": [
       "3.536"
      ]
     },
     "execution_count": 33,
     "metadata": {},
     "output_type": "execute_result"
    }
   ],
   "source": [
    "x = np.array([8, 1, 1, 0.86])\n",
    "w = np.array([0.14, 1, 0.9, 0.6])\n",
    "np.dot(w, x)\n",
    "# value is 3.536 whereas theta = 2, so Yes"
   ]
  },
  {
   "cell_type": "code",
   "execution_count": 34,
   "metadata": {},
   "outputs": [
    {
     "data": {
      "text/plain": [
       "5.424"
      ]
     },
     "execution_count": 34,
     "metadata": {},
     "output_type": "execute_result"
    }
   ],
   "source": [
    "x = np.array([5, 1, 0, 0.53])\n",
    "w = np.array([0.8, 1, 0.4, 0.8])\n",
    "np.dot(w, x)\n",
    "# value is 5.424 whereas theta = 7, so No"
   ]
  },
  {
   "cell_type": "code",
   "execution_count": 35,
   "metadata": {},
   "outputs": [
    {
     "data": {
      "text/plain": [
       "8"
      ]
     },
     "execution_count": 35,
     "metadata": {},
     "output_type": "execute_result"
    }
   ],
   "source": [
    "x_neg = np.array([ [1,0,0,0] ])\n",
    "x_pos = np.array([ [1,0,0,1], [1,0,1,0], [1,0,1,1], [1,1,0,0], [1,1,0,1], [1,1,1,0], [1,1,1,1] ])\n",
    "\n",
    "X = np.concatenate((x_neg, x_pos), axis=0)\n",
    "y = np.array([0, 1, 1, 1, 1, 1, 1, 1])\n",
    "len(X)"
   ]
  },
  {
   "cell_type": "code",
   "execution_count": 36,
   "metadata": {},
   "outputs": [],
   "source": [
    "def perceptron(X, Y):\n",
    "\n",
    "    y_predict = np.zeros(len(X), dtype=int)\n",
    "    w = np.array( [0,0,-1,2] )\n",
    "    epochs = 10\n",
    "    \n",
    "    for t in range(epochs):\n",
    "        for i, x in enumerate(X):\n",
    "            dot = np.dot(x, w)\n",
    "            if x in x_neg and dot >= 0:\n",
    "                w = w - x\n",
    "            elif x in x_pos and dot < 0:\n",
    "                w = w + x\n",
    "            y_predict[i] = 0 if dot < 0 else 1\n",
    "            \n",
    "    return w, y_predict\n",
    "\n",
    "weights, y_predict = perceptron(X, y)"
   ]
  },
  {
   "cell_type": "code",
   "execution_count": 37,
   "metadata": {},
   "outputs": [
    {
     "data": {
      "text/plain": [
       "(array([-2,  2, -1,  0]), array([1, 0, 1, 1, 1, 0, 0, 1]))"
      ]
     },
     "execution_count": 37,
     "metadata": {},
     "output_type": "execute_result"
    }
   ],
   "source": [
    "weights, y_predict"
   ]
  },
  {
   "cell_type": "code",
   "execution_count": 38,
   "metadata": {
    "collapsed": true
   },
   "outputs": [],
   "source": [
    "import pandas as pd\n",
    "import matplotlib.pyplot as plt"
   ]
  },
  {
   "cell_type": "code",
   "execution_count": 39,
   "metadata": {},
   "outputs": [
    {
     "data": {
      "image/png": "[encoded data removed]",
      "text/plain": [
       "<Figure size 432x288 with 1 Axes>"
      ]
     },
     "metadata": {},
     "output_type": "display_data"
    }
   ],
   "source": [
    "data = pd.read_csv('Assignment1_Q4_data.txt', sep=\" \", header=None)\n",
    "x = data.iloc[:, 0]\n",
    "y = data.iloc[:, 1]\n",
    "plt.scatter(x, y, color='r')\n",
    "plt.show()"
   ]
  },
  {
   "cell_type": "markdown",
   "metadata": {},
   "source": [
    "**6.** True"
   ]
  }
 ],
 "metadata": {
  "kernelspec": {
   "display_name": "Python 3",
   "language": "python",
   "name": "python3"
  },
  "language_info": {
   "codemirror_mode": {
    "name": "ipython",
    "version": 3
   },
   "file_extension": ".py",
   "mimetype": "text/x-python",
   "name": "python",
   "nbconvert_exporter": "python",
   "pygments_lexer": "ipython3",
   "version": "3.6.3"
  }
 },
 "nbformat": 4,
 "nbformat_minor": 2
}
